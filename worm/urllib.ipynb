{
 "cells": [
  {
   "source": [
    "# urllib库基础使用"
   ],
   "cell_type": "markdown",
   "metadata": {}
  },
  {
   "cell_type": "markdown",
   "metadata": {},
   "source": [
    "* urllib有4个模块\n",
    "    * request是请求HTTP的\n",
    "    * error是进行异常处理\n",
    "    * parse处理url\n",
    "    * robotparser是处理爬虫是否可爬的"
   ]
  },
  {
   "cell_type": "code",
   "execution_count": null,
   "metadata": {},
   "outputs": [],
   "source": [
    "import urllib.request\n",
    "import urllib.error\n",
    "import urllib.robotparser\n",
    "import urllib.parse\n",
    "import socket"
   ]
  },
  {
   "cell_type": "markdown",
   "metadata": {},
   "source": [
    "get方式请求返回HTTPResposne类型对象\n",
    "\n",
    "respons的方法有：\n",
    "\n",
    "1. read（）读取，byet类型\n",
    "2. getheader(name)获取响应头中的name属性值\n",
    "3. status响应状态码"
   ]
  },
  {
   "cell_type": "code",
   "execution_count": null,
   "metadata": {
    "tags": []
   },
   "outputs": [],
   "source": [
    "response=urllib.request.urlopen(\"http://www.baidu.com\")\n",
    "print(response.read().decode(\"utf-8\"))"
   ]
  },
  {
   "cell_type": "markdown",
   "metadata": {},
   "source": [
    "post方式请求：\n",
    "* 传递的数据要是字节流\n",
    "* 制定编码格式\n",
    "* 如果要使用字典转换字节流需要使用urllib.parse.urlencode()\n",
    "* 除了data还有context传递ssl设置     \n",
    "* cafile和capath设定ca证书和路经用于https"
   ]
  },
  {
   "cell_type": "code",
   "execution_count": null,
   "metadata": {},
   "outputs": [],
   "source": [
    "a={\"a\":\"b\"}\n",
    "urllib.parse.urlencode(a)"
   ]
  },
  {
   "cell_type": "code",
   "execution_count": null,
   "metadata": {},
   "outputs": [],
   "source": [
    "data=bytes(\"a=b\",encoding=\"utf-8\")\n",
    "response=urllib.request.urlopen(\"http://httpbin.org/post\",data=data)\n",
    "print(response.read().decode(\"utf-8\"))"
   ]
  },
  {
   "cell_type": "markdown",
   "metadata": {},
   "source": [
    "设置请求超时时间，超时后会报错，并判断错误类型是是否是超时类型"
   ]
  },
  {
   "cell_type": "code",
   "execution_count": null,
   "metadata": {},
   "outputs": [],
   "source": [
    "try:\n",
    "    response=urllib.request.urlopen(\"http://www.baidu.com\",timeout=0.01)\n",
    "except urllib.error.URLError as e:\n",
    "    print(e)\n",
    "    if isinstance(e.reason,socket.timeout):\n",
    "\n",
    "        print(\"timeout\")"
   ]
  },
  {
   "source": [
    "# urllib库高级使用-添加请求头、设置cookie、代理、基本账户验证"
   ],
   "cell_type": "markdown",
   "metadata": {}
  },
  {
   "cell_type": "markdown",
   "metadata": {},
   "source": [
    "使用Request类将请求的uel（网站），headers（请求头），data（post传输的数据），method请求方式组合成一个类\n",
    "\n",
    "headers还可以调用实例的.add_headers来添加"
   ]
  },
  {
   "cell_type": "code",
   "execution_count": null,
   "metadata": {},
   "outputs": [],
   "source": [
    "url=\"http://httpbin.org/post\"\n",
    "headers={\"User-Agent\":\"Mozilla/5.0 (Windows NT 10.0; WOW64) AppleWebKit/537.36 (KHTML, like Gecko) Chrome/80.0.3987.132 Safari/537.36\"}\n",
    "req=urllib.request.Request(url,headers=headers,data=data,method=\"POST\")\n",
    "response=urllib.request.urlopen(req)\n",
    "print(response.read().decode(\"utf-8\"))"
   ]
  },
  {
   "cell_type": "code",
   "execution_count": null,
   "metadata": {},
   "outputs": [],
   "source": [
    "import http.cookiejar"
   ]
  },
  {
   "cell_type": "markdown",
   "metadata": {},
   "source": [
    "验证——用于对付弹出身份验证\n",
    "    \n",
    "实例化密码管理对象，并通过add_password方法添加对应的账户密码与url，再继承到认证管理类的handler，\n",
    "\n",
    "在用buli_opener将handler转换成opener，最后使用open方法请求\n",
    "\n",
    "！！！弹出身份校验没有实际使用过！！！    "
   ]
  },
  {
   "cell_type": "code",
   "execution_count": null,
   "metadata": {},
   "outputs": [],
   "source": [
    "\n",
    "uername=\"username\"\n",
    "password=\"pasword\"\n",
    "url=\"http://localhost:5000/\"\n",
    "p=urllib.request.HTTPPasswordMgrWithDefaultRealm()\n",
    "p.add_password(None,url,uername,password)\n",
    "auth_handler=urllib.request.HTTPBasicAuthHandler(p)\n",
    "opener=urllib.request.build_opener(auth_handler)\n",
    "try:\n",
    "    result=opener.open(url)\n",
    "    html=result.read().decode(\"utf-8\")\n",
    "    print(html)\n",
    "except urllib.error.URLError as e :\n",
    "    print(e.reason)"
   ]
  },
  {
   "cell_type": "markdown",
   "metadata": {},
   "source": [
    "代理\n",
    "\n",
    "定义代理实例并通过build_opener转换再使用open请求\n",
    "\n",
    "在https://ip.ihuan.me/ 中找到对应的代理服务器"
   ]
  },
  {
   "cell_type": "code",
   "execution_count": null,
   "metadata": {},
   "outputs": [],
   "source": [
    "proxy=urllib.request.ProxyHandler({\"http\":\"113.195.140.57:8085\",\"https\":\"127.0.0.1:80\"})\n",
    "opener=urllib.request.build_opener(proxy)\n",
    "try:\n",
    "    reponse=opener.open(\"http://httpbin.org/get\")\n",
    "    html=reponse.read().decode(\"utf-8\")\n",
    "    print(html)\n",
    "except urllib.error.URLError as e :\n",
    "    print(e.reason)"
   ]
  },
  {
   "cell_type": "markdown",
   "metadata": {},
   "source": [
    "获取cookies\n",
    "\n",
    "生成cookies罐集成给cookie处理类，再转换成openre，最后使用open方法请求，可以使最开始的cookies罐实例有cookies"
   ]
  },
  {
   "cell_type": "code",
   "execution_count": null,
   "metadata": {},
   "outputs": [],
   "source": [
    "cookie=http.cookiejar.CookieJar()\n",
    "handler=urllib.request.HTTPCookieProcessor(cookie)\n",
    "opener=urllib.request.build_opener(handler)\n",
    "response=opener.open(\"http://www.baidu.com\")\n",
    "print(cookie)"
   ]
  },
  {
   "cell_type": "code",
   "execution_count": null,
   "metadata": {},
   "outputs": [],
   "source": [
    "获取浏览器格式cookies并保存到c.txt文件中\n",
    "\n",
    "与获取先同结构只是修改cookies罐类型为浏览器cookie罐并调用save方法保存，其中ignore忽略丢弃与到期\n",
    "cookies文件还有lwp格式\n",
    "\n",
    "cookie=http.cookiejar.MozillaCookieJar(fil)替换成cookie=http.cookiejar.LWPCookieJar"
   ]
  },
  {
   "cell_type": "code",
   "execution_count": null,
   "metadata": {},
   "outputs": [],
   "source": [
    "fil=\"cookies.txt\"\n",
    "cookie=http.cookiejar.MozillaCookieJar(fil)\n",
    "handler=urllib.request.HTTPCookieProcessor(cookie)\n",
    "opener=urllib.request.build_opener(handler)\n",
    "response=opener.open(\"http://ww.baidu.com\")\n",
    "cookie.save(ignore_discard=True,ignore_expires=True)"
   ]
  },
  {
   "cell_type": "markdown",
   "metadata": {},
   "source": [
    "也可以使用load方法调用读取文件中的cookie文件"
   ]
  },
  {
   "cell_type": "code",
   "execution_count": null,
   "metadata": {},
   "outputs": [],
   "source": [
    "ookie=http.cookiejar.MozillaCookieJar()\n",
    "cookie.load(\"cookies.txt\",ignore_discard=True,ignore_expires=True)\n",
    "print(cookie)"
   ]
  },
  {
   "source": [
    "# urllib错误"
   ],
   "cell_type": "markdown",
   "metadata": {}
  },
  {
   "cell_type": "markdown",
   "metadata": {},
   "source": [
    "HTTPError是URLError的子类来处理http请求出现的错误\n",
    "\n",
    "1. reason属性是返回错误原因\n",
    "2. code属性是返回请求状态码\n",
    "3. headers属性返回请求头的信息"
   ]
  },
  {
   "cell_type": "code",
   "execution_count": null,
   "metadata": {},
   "outputs": [],
   "source": [
    "try:\n",
    "    response=urllib.request.urlopen(\"http://www.xiaoshuowu.com/robots.txt\")\n",
    "except urllib.error.URLError as e:\n",
    "    print(e)"
   ]
  },
  {
   "cell_type": "markdown",
   "metadata": {},
   "source": [
    "使用异常处理模板优先判断是否为http错误，再判断url错误，如果没有错误就输出请求成功\n",
    "有时reason返回的也可能不是字符串而是对象"
   ]
  },
  {
   "cell_type": "code",
   "execution_count": null,
   "metadata": {},
   "outputs": [],
   "source": [
    "try:\n",
    "    response = urllib.request.urlopen(\"http://www.xiaoshuowu.com/robots.txt\")\n",
    "except urllib.error.HTTPError as e:\n",
    "    print(\"httperror\")\n",
    "    print(e.reason,e.code,e.headers,sep=\"\\n\")\n",
    "except urllib.error.URLError as e:\n",
    "    print(\"urlerror\")\n",
    "    print(e.reason, e.code, e.headers, sep=\"\\n\")\n",
    "else:\n",
    "    print(\"request success\")    "
   ]
  },
  {
   "source": [
    "# urllib分析url"
   ],
   "cell_type": "markdown",
   "metadata": {}
  },
  {
   "cell_type": "code",
   "execution_count": 2,
   "metadata": {},
   "outputs": [],
   "source": [
    "import urllib.parse"
   ]
  },
  {
   "source": [
    "使用urlparse类来分析url内容 scheme协议 netloc域名 path访问路径 paeams参数 query查询条件 fragment锚点\n",
    "\n",
    "`urlparse（urlstring，scheme=\"http|https\"，allow——fragments=True）`\n",
    "\n",
    "urlstring带解析的url scheme默认的协议（只有在url中没有表明使用）all_fragments忽略锚点（设置成False忽略）\n",
    "\n",
    "可以使用索引获得result的指定属性 或者result.scheme来获取"
   ],
   "cell_type": "markdown",
   "metadata": {}
  },
  {
   "cell_type": "code",
   "execution_count": 3,
   "metadata": {},
   "outputs": [
    {
     "output_type": "stream",
     "name": "stdout",
     "text": [
      "ParseResult(scheme='http', netloc='www.baodu.com', path='/index.html', params='user', query='id=5', fragment='comment')\n"
     ]
    }
   ],
   "source": [
    "result=urllib.parse.urlparse(\"http://www.baodu.com/index.html;user?id=5#comment\")\n",
    "print(result)"
   ]
  },
  {
   "source": [
    "urlparse是分解url，相对的urlunparse就是并接成url，传入长度为6元素的列表或元组\n",
    "\n",
    "urlsplit就是urlparse没有paeams将其合并到path中\n",
    "\n",
    "urlunsplit相当于urlunparse不过传入数据必须长度为5个元素\n",
    "\n",
    "urljoin（原url，新rul）会将新url的内容拼接到基础url上，基础url只为新url提供scheme协议 netloc域名 path访问路径\n",
    "\n",
    "但当新url中有这些内容时就使用新url的"
   ],
   "cell_type": "markdown",
   "metadata": {}
  },
  {
   "cell_type": "code",
   "execution_count": 4,
   "metadata": {},
   "outputs": [
    {
     "output_type": "stream",
     "name": "stdout",
     "text": [
      "http://www.baodu.com/index.html;user?id=5#comment\n"
     ]
    }
   ],
   "source": [
    "data=['http', 'www.baodu.com', 'index.html', 'user', 'id=5', 'comment']\n",
    "url=urllib.parse.urlunparse(data)\n",
    "print(url)"
   ]
  },
  {
   "source": [
    "urlencode将字典构造到url中\n",
    "\n",
    "parse_qs就是urlencode的反序转换回字典\n",
    "\n",
    "parse_qsl与parse_qs一样只不过输出元组列表\n",
    "\n",
    "quote将内容转换为url的编码格式\n",
    "\n",
    "unquote将url编码"
   ],
   "cell_type": "markdown",
   "metadata": {}
  },
  {
   "cell_type": "code",
   "execution_count": 5,
   "metadata": {},
   "outputs": [
    {
     "output_type": "stream",
     "name": "stdout",
     "text": [
      "http://www.baodu.com?name=a&age=18\n"
     ]
    }
   ],
   "source": [
    "data={\"name\":\"a\",\"age\":\"18\"}\n",
    "bas_url=\"http://www.baodu.com?\"\n",
    "new_url=bas_url+urllib.parse.urlencode(data)\n",
    "print(new_url)"
   ]
  },
  {
   "cell_type": "code",
   "execution_count": 6,
   "metadata": {},
   "outputs": [
    {
     "output_type": "execute_result",
     "data": {
      "text/plain": [
       "'%E4%BD%A0%E5%A5%BD'"
      ]
     },
     "metadata": {},
     "execution_count": 6
    }
   ],
   "source": [
    "data=\"你好\"\n",
    "urllib.parse.quote(data)"
   ]
  },
  {
   "cell_type": "code",
   "execution_count": 7,
   "metadata": {},
   "outputs": [
    {
     "output_type": "execute_result",
     "data": {
      "text/plain": [
       "'你好'"
      ]
     },
     "metadata": {},
     "execution_count": 7
    }
   ],
   "source": [
    "urllib.parse.unquote(urllib.parse.quote(data))"
   ]
  },
  {
   "source": [
    "# urllib爬虫协议"
   ],
   "cell_type": "markdown",
   "metadata": {}
  },
  {
   "source": [
    "user-agent:爬虫名称\n",
    "\n",
    "Disallow:禁止爬取的路径\n",
    "\n",
    "Allow:允许的路径\n",
    "\n",
    "*代表所有"
   ],
   "cell_type": "markdown",
   "metadata": {}
  },
  {
   "cell_type": "code",
   "execution_count": 9,
   "metadata": {},
   "outputs": [],
   "source": [
    "import urllib.robotparser\n",
    "rp=urllib.robotparser.RobotFileParser()\n",
    "rp.set_url(\"https://www.jd.com/robots.txt\")\n",
    "#设置url，也可以在生成实例时设定\n",
    "rp.read()\n",
    "# 读取分析robots.txt"
   ]
  },
  {
   "source": [
    "也可以省略ser_url与read使用parse（robots.txt的str）\n",
    "\n",
    "可以通过can_fetch（爬虫名称，需要爬取的url）返回的bool值判断url是否可爬"
   ],
   "cell_type": "markdown",
   "metadata": {}
  },
  {
   "cell_type": "code",
   "execution_count": 10,
   "metadata": {},
   "outputs": [
    {
     "output_type": "stream",
     "name": "stdout",
     "text": [
      "True\n"
     ]
    }
   ],
   "source": [
    "can=rp.can_fetch(\"*\",\"https://www.jd.com\")\n",
    "print(can)"
   ]
  },
  {
   "source": [
    "返回上一次爬取的时间，时间戳"
   ],
   "cell_type": "markdown",
   "metadata": {}
  },
  {
   "cell_type": "code",
   "execution_count": 11,
   "metadata": {},
   "outputs": [
    {
     "output_type": "stream",
     "name": "stdout",
     "text": [
      "1620314615.321051\n"
     ]
    }
   ],
   "source": [
    "time=rp.mtime()\n",
    "print(time)"
   ]
  },
  {
   "cell_type": "code",
   "execution_count": null,
   "metadata": {},
   "outputs": [],
   "source": []
  }
 ],
 "metadata": {
  "kernelspec": {
   "name": "python385jvsc74a57bd031f2aee4e71d21fbe5cf8b01ff0e069b9275f58929596ceb00d14d90e3e16cd6",
   "display_name": "Python 3.8.5 64-bit"
  },
  "language_info": {
   "codemirror_mode": {
    "name": "ipython",
    "version": 3
   },
   "file_extension": ".py",
   "mimetype": "text/x-python",
   "name": "python",
   "nbconvert_exporter": "python",
   "pygments_lexer": "ipython3",
   "version": "3.8.5"
  }
 },
 "nbformat": 4,
 "nbformat_minor": 4
}
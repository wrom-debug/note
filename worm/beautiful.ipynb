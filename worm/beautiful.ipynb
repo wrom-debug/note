{
 "cells": [
  {
   "source": [
    "# 安装"
   ],
   "cell_type": "markdown",
   "metadata": {}
  },
  {
   "source": [
    "pip install bs4\n",
    "\n",
    "pip install lxml"
   ],
   "cell_type": "markdown",
   "metadata": {}
  },
  {
   "source": [
    "# 导入并使用"
   ],
   "cell_type": "markdown",
   "metadata": {}
  },
  {
   "cell_type": "code",
   "execution_count": 2,
   "metadata": {},
   "outputs": [
    {
     "output_type": "stream",
     "name": "stdout",
     "text": [
      "<html>\n <head>\n  <title>\n   The Dormouse's story\n  </title>\n </head>\n <body>\n  <p class=\"title\" name=\"dromouse\">\n   aaa\n   <b>\n    The Dormouse's story\n   </b>\n  </p>\n  <p class=\"story\">\n   once upon a time there were three little sisters; and their names were\n   <a class=\"sister\" href=\"http://example.com/elsie\" id=\"link1\">\n    <!--ELsie-->\n   </a>\n   ,\n   <a class=\"sister\" href=\"http://example.com/lacie\" id=\"link2\">\n    Lacie\n   </a>\n   and\n   <a class=\"sister\" href=\"http://example.com/tillie\" id=\"link3\">\n    Tillie\n   </a>\n   ;\nand they lived at the bottom of a well.\n  </p>\n  <p class=\"story\">\n   ...\n  </p>\n </body>\n</html>\n"
     ]
    }
   ],
   "source": [
    "from bs4 import BeautifulSoup\n",
    "html=\"\"\"\n",
    "<html><head><title>The Dormouse's story</title></head>\n",
    "<body>\n",
    "<p class=\"title\" name=\"dromouse\"> aaa <b>The Dormouse's story</b></p>\n",
    "<p class=\"story\">once upon a time there were three little sisters; and their names were\n",
    "<a href=\"http://example.com/elsie\" class=\"sister\" id=\"link1\"><!--ELsie--></a>,\n",
    "<a href=\"http://example.com/lacie\" class=\"sister\" id=\"link2\">Lacie</a> and\n",
    "<a href=\"http://example.com/tillie\" class=\"sister\" id=\"link3\">Tillie</a>;\n",
    "and they lived at the bottom of a well.</p>\n",
    "<p class=\"story\">...</p>\n",
    "\"\"\"\n",
    "soup=BeautifulSoup(html,\"lxml\") #将字符串转化为Beautifulsoup实例对象,在转换时会补全缺失部分\n",
    "print(soup.prettify())  #调用prettify方法返回正常缩进str"
   ]
  },
  {
   "source": [
    "也可使用Beautifulsoup(test.html,\"lxml\")来将文件转化Beautifulsoup实例对象"
   ],
   "cell_type": "markdown",
   "metadata": {}
  },
  {
   "source": [
    "# 获取内容"
   ],
   "cell_type": "markdown",
   "metadata": {}
  },
  {
   "cell_type": "code",
   "execution_count": 3,
   "metadata": {},
   "outputs": [
    {
     "output_type": "stream",
     "name": "stdout",
     "text": [
      "<p class=\"title\" name=\"dromouse\"> aaa <b>The Dormouse's story</b></p>\n"
     ]
    }
   ],
   "source": [
    "print(soup.p) #匹配第一个对应的标签加其内部内容，后面匹配节点忽略。不使用prettify()，Beautifulsoup对象也可以输出html文本。"
   ]
  },
  {
   "cell_type": "code",
   "execution_count": 4,
   "metadata": {},
   "outputs": [
    {
     "output_type": "stream",
     "name": "stdout",
     "text": [
      "p\n"
     ]
    }
   ],
   "source": [
    "print(soup.p.name)  #获取节点名称"
   ]
  },
  {
   "cell_type": "code",
   "execution_count": 5,
   "metadata": {},
   "outputs": [
    {
     "output_type": "stream",
     "name": "stdout",
     "text": [
      "{'class': ['title'], 'name': 'dromouse'}\n['title']\ndromouse\n"
     ]
    }
   ],
   "source": [
    "print(soup.p.attrs) #获取全部属性值\n",
    "print(soup.p.attrs[\"class\"])    #获取一个属性值\n",
    "print(soup.p[\"name\"])   #也可以获取节点的一个属性值"
   ]
  },
  {
   "source": [
    "获取内容\n",
    "\n",
    "- .string\n",
    "- .text\n",
    "\n",
    "两者差异：\n",
    "\n",
    "- 在指定标签，没有子标签，且有文本时，两者的返回结果一致，都是文本\n",
    "- 在指定标签，没有子标签，且没有文本时，.string返回None，.text返回为空\n",
    "- 在指定标签，只有一个子标签时，且文本只出现在子标签之间时，两者返回结果一致，都返回子标签内的文本\n",
    "- 最关键的区别，在指定标签，有子标签，并且父标签td和子标签p各自包含一段文本时，两者的返回结果，存在很大的差异\n",
    "    - .string返回为空，因为文本数>=2，string不知道获取哪一个\n",
    "    - .text返回的是，两段文本的拼接。"
   ],
   "cell_type": "markdown",
   "metadata": {}
  },
  {
   "cell_type": "code",
   "execution_count": 6,
   "metadata": {},
   "outputs": [
    {
     "output_type": "stream",
     "name": "stdout",
     "text": [
      "None\n aaa The Dormouse's story\n"
     ]
    }
   ],
   "source": [
    "print(soup.p.string)   \n",
    "print(soup.p.text)"
   ]
  },
  {
   "source": [
    "# 节点选择器"
   ],
   "cell_type": "markdown",
   "metadata": {}
  },
  {
   "cell_type": "code",
   "execution_count": 7,
   "metadata": {},
   "outputs": [
    {
     "output_type": "stream",
     "name": "stdout",
     "text": [
      "<b>The Dormouse's story</b>\n"
     ]
    }
   ],
   "source": [
    "print(soup.p.b) #标签可以嵌套选择"
   ]
  },
  {
   "cell_type": "code",
   "execution_count": 8,
   "metadata": {},
   "outputs": [
    {
     "output_type": "stream",
     "name": "stdout",
     "text": [
      "['\\n', <p class=\"title\" name=\"dromouse\"> aaa <b>The Dormouse's story</b></p>, '\\n', <p class=\"story\">once upon a time there were three little sisters; and their names were\n<a class=\"sister\" href=\"http://example.com/elsie\" id=\"link1\"><!--ELsie--></a>,\n<a class=\"sister\" href=\"http://example.com/lacie\" id=\"link2\">Lacie</a> and\n<a class=\"sister\" href=\"http://example.com/tillie\" id=\"link3\">Tillie</a>;\nand they lived at the bottom of a well.</p>, '\\n', <p class=\"story\">...</p>, '\\n']\n"
     ]
    }
   ],
   "source": [
    "print(soup.body.contents)  #子节点,列表形式返"
   ]
  },
  {
   "cell_type": "code",
   "execution_count": 9,
   "metadata": {},
   "outputs": [
    {
     "output_type": "stream",
     "name": "stdout",
     "text": [
      "\n\n<p class=\"title\" name=\"dromouse\"> aaa <b>The Dormouse's story</b></p>\n\n\n<p class=\"story\">once upon a time there were three little sisters; and their names were\n<a class=\"sister\" href=\"http://example.com/elsie\" id=\"link1\"><!--ELsie--></a>,\n<a class=\"sister\" href=\"http://example.com/lacie\" id=\"link2\">Lacie</a> and\n<a class=\"sister\" href=\"http://example.com/tillie\" id=\"link3\">Tillie</a>;\nand they lived at the bottom of a well.</p>\n\n\n<p class=\"story\">...</p>\n\n\n"
     ]
    }
   ],
   "source": [
    "for i in soup.body.children:\n",
    "    print(i)   #子节点,生成器形式返回"
   ]
  },
  {
   "cell_type": "code",
   "execution_count": 10,
   "metadata": {},
   "outputs": [
    {
     "output_type": "stream",
     "name": "stdout",
     "text": [
      "<generator object Tag.descendants at 0x7faa5c4096d0>\n"
     ]
    }
   ],
   "source": [
    "print(soup.body.descendants)    #子孙节点，生成器形式"
   ]
  },
  {
   "cell_type": "code",
   "execution_count": 11,
   "metadata": {},
   "outputs": [
    {
     "output_type": "stream",
     "name": "stdout",
     "text": [
      "<body>\n<p class=\"title\" name=\"dromouse\"> aaa <b>The Dormouse's story</b></p>\n<p class=\"story\">once upon a time there were three little sisters; and their names were\n<a class=\"sister\" href=\"http://example.com/elsie\" id=\"link1\"><!--ELsie--></a>,\n<a class=\"sister\" href=\"http://example.com/lacie\" id=\"link2\">Lacie</a> and\n<a class=\"sister\" href=\"http://example.com/tillie\" id=\"link3\">Tillie</a>;\nand they lived at the bottom of a well.</p>\n<p class=\"story\">...</p>\n</body>\n"
     ]
    }
   ],
   "source": [
    "print(soup.p.parent)    #父节点，文本形式"
   ]
  },
  {
   "cell_type": "code",
   "execution_count": 12,
   "metadata": {},
   "outputs": [
    {
     "output_type": "stream",
     "name": "stdout",
     "text": [
      "<generator object PageElement.parents at 0x7faa5c409ac0>\n"
     ]
    }
   ],
   "source": [
    "print(soup.p.parents)   #所有祖先节点，生成器形式"
   ]
  },
  {
   "cell_type": "code",
   "execution_count": 13,
   "metadata": {},
   "outputs": [
    {
     "output_type": "stream",
     "name": "stdout",
     "text": [
      "<generator object PageElement.next_siblings at 0x7faa5c6a3e40>\n\n\n<generator object PageElement.next_siblings at 0x7faa5c6a3e40>\n<generator object PageElement.previous_siblings at 0x7faa5c6a3e40>\n"
     ]
    }
   ],
   "source": [
    "print(soup.p.next_siblings) #显示下一个兄弟节点，文本形式\n",
    "print(soup.p.previous_sibling)  #上一个兄弟节点，文本形式\n",
    "print(soup.p.next_siblings) #后面全部全部兄弟节点，生成器形式\n",
    "print(soup.p.previous_siblings) #前面全部兄弟节点，生成器形式"
   ]
  },
  {
   "source": [
    "# 方法选择器"
   ],
   "cell_type": "markdown",
   "metadata": {}
  },
  {
   "cell_type": "code",
   "execution_count": 17,
   "metadata": {},
   "outputs": [
    {
     "output_type": "stream",
     "name": "stdout",
     "text": [
      "[<p class=\"title\" name=\"dromouse\"> aaa <b>The Dormouse's story</b></p>, <p class=\"story\">once upon a time there were three little sisters; and their names were\n<a class=\"sister\" href=\"http://example.com/elsie\" id=\"link1\"><!--ELsie--></a>,\n<a class=\"sister\" href=\"http://example.com/lacie\" id=\"link2\">Lacie</a> and\n<a class=\"sister\" href=\"http://example.com/tillie\" id=\"link3\">Tillie</a>;\nand they lived at the bottom of a well.</p>, <p class=\"story\">...</p>]\n[<p class=\"title\" name=\"dromouse\"> aaa <b>The Dormouse's story</b></p>]\n[\"The Dormouse's story\", \"The Dormouse's story\"]\n"
     ]
    }
   ],
   "source": [
    "import re\n",
    "print(soup.find_all(name='p')) #匹配全部的p标签，并以列表形式返回,每个元素还是bs4.element.Tag类型\n",
    "print(soup.find_all(attrs={\"class\":\"title\"}))   #也可以使用属性匹配\n",
    "print(soup.find_all(text=re.compile('The')))    #匹配所有内容文本，可以使用字符串匹配也可以使用正则匹配，返回匹配的文本内容列表，元素不再是bs4.element.Tag类型"
   ]
  },
  {
   "cell_type": "code",
   "execution_count": 18,
   "metadata": {},
   "outputs": [
    {
     "output_type": "stream",
     "name": "stdout",
     "text": [
      "<p class=\"title\" name=\"dromouse\"> aaa <b>The Dormouse's story</b></p>\n"
     ]
    }
   ],
   "source": [
    "print(soup.find(name='p'))  # find方法的使用方式与find_all一样但是返回的只会是第一个匹配的对象\n",
    "#find_parents() :返回所有祖先节点\n",
    "#find_parent() ：返回父亲节点\n",
    "#find_netx_siblings()   :返回后面所有兄弟节点\n",
    "#find_netx_sibling()    :返回后面一个兄弟节点\n",
    "#find_previous_siblings()   :返回前面所有兄弟节点\n",
    "#find_previous_sibling()    :返回前面一个兄弟节点\n",
    "#find_all_next()    :返回后面所有节点\n",
    "#find_next()    :返回后面一个节点\n",
    "#find_all_previous()    :返回前面所有节点\n",
    "#find_previous()    ：返回前面一个节点"
   ]
  },
  {
   "source": [
    "# css选择器"
   ],
   "cell_type": "markdown",
   "metadata": {}
  },
  {
   "cell_type": "code",
   "execution_count": null,
   "metadata": {},
   "outputs": [],
   "source": [
    "ul=soup.select('css选择器')    #返回列表，也是bs4.element.Tag类型\n",
    "ul[\"属性\"]  #返回属性值\n",
    "ul.attrs[\"属性\"]    #返回属性\n",
    "ul.string   #返回字符内容\n",
    "ul.get_text()   #返回字符内容"
   ]
  }
 ],
 "metadata": {
  "kernelspec": {
   "name": "python385jvsc74a57bd031f2aee4e71d21fbe5cf8b01ff0e069b9275f58929596ceb00d14d90e3e16cd6",
   "display_name": "Python 3.8.5 64-bit"
  },
  "language_info": {
   "codemirror_mode": {
    "name": "ipython",
    "version": 3
   },
   "file_extension": ".py",
   "mimetype": "text/x-python",
   "name": "python",
   "nbconvert_exporter": "python",
   "pygments_lexer": "ipython3",
   "version": "3.8.5"
  }
 },
 "nbformat": 4,
 "nbformat_minor": 4
}
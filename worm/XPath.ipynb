{
 "cells": [
  {
   "source": [
    "# 准备工作"
   ],
   "cell_type": "markdown",
   "metadata": {}
  },
  {
   "source": [
    "`pip install lxml`   #安装lxml库"
   ],
   "cell_type": "markdown",
   "metadata": {}
  },
  {
   "source": [
    "# 引入并调用"
   ],
   "cell_type": "markdown",
   "metadata": {}
  },
  {
   "cell_type": "code",
   "execution_count": 2,
   "metadata": {},
   "outputs": [
    {
     "output_type": "stream",
     "name": "stdout",
     "text": [
      "<html><body><div>\n        <ul>\n        <li class=\"item-0\"><a href=\"link1.html\">first item </a></li>\n        <li class=\"item-1\"><a href=\"link2.html\">second item </a></li>\n        <li class=\"item-inactive\"><a href=\"link3.html\">third item </a></li>\n        <li class=\"item-1\"><a href=\"link4.html\">fourth item </a></li>\n        <li class=\"item-0\"><a href=\"link5.html\">fifth item </a>\n        </li></ul>\n        </div>\n</body></html>\n"
     ]
    }
   ],
   "source": [
    "from lxml import etree  #调用\n",
    "text=\"\"\"\n",
    "        <div>\n",
    "        <ul>\n",
    "        <li class=\"item-0\"><a href=\"link1.html\">first item </a></li>\n",
    "        <li class=\"item-1\"><a href=\"link2.html\">second item </a></li>\n",
    "        <li class=\"item-inactive\"><a href=\"link3.html\">third item </a></li>\n",
    "        <li class=\"item-1\"><a href=\"link4.html\">fourth item </a></li>\n",
    "        <li class=\"item-0\"><a href=\"link5.html\">fifth item </a>\n",
    "        </ul>\n",
    "        </div>\n",
    "\"\"\"\n",
    "html=etree.HTML(text)\n",
    "print(etree.tostring(html).decode('utf-8'))\n",
    "text=\"\"\"\n",
    "<li class=\"li li-first\" name=\"item\"><a href=\"link.html\">fifth item </a>\n",
    "\"\"\"\n",
    "text=etree.HTML(text)"
   ]
  },
  {
   "source": [
    "1. `etree.HTML(srt)`使字符串转换为etree对象\n",
    "2. `etree.parse(test.html)`使文件转换为etree对象\n",
    "\n",
    "etree对象生成时会自动修复html文本补齐缺失的标签"
   ],
   "cell_type": "markdown",
   "metadata": {}
  },
  {
   "source": [
    "etree对象可以调用tostring方法返回对象中的html文本以字节形式\n",
    "\n",
    "并使用decode方法使字节转换为字符串"
   ],
   "cell_type": "markdown",
   "metadata": {}
  },
  {
   "source": [
    "# 使用与语法介绍\n"
   ],
   "cell_type": "markdown",
   "metadata": {}
  },
  {
   "source": [
    "etree是将html文本转换成一个类似linux文件树的结构所有可以只用`/`、`.`、`..`来表示根节点（目录）|子节点(目录)、本节点(目录)、父节点(目录)\n",
    "\n",
    "但是其中新加`//`子孙节点概念，与\\[@属性=值\\]\n",
    "\n",
    "html文本的根节点是html节点外\n",
    "\n",
    "etree对象一定是列表形式\n"
   ],
   "cell_type": "markdown",
   "metadata": {}
  },
  {
   "cell_type": "code",
   "execution_count": 3,
   "metadata": {},
   "outputs": [
    {
     "output_type": "execute_result",
     "data": {
      "text/plain": [
       "[<Element a at 0x7f2d001cfe40>,\n",
       " <Element a at 0x7f2d001cfbc0>,\n",
       " <Element a at 0x7f2d001cfd40>,\n",
       " <Element a at 0x7f2d001cfcc0>,\n",
       " <Element a at 0x7f2d001cfdc0>]"
      ]
     },
     "metadata": {},
     "execution_count": 3
    }
   ],
   "source": [
    "html.xpath(\"/html/body/div/ul/li/a\")"
   ]
  },
  {
   "cell_type": "code",
   "execution_count": 4,
   "metadata": {},
   "outputs": [
    {
     "output_type": "execute_result",
     "data": {
      "text/plain": [
       "[<Element a at 0x7f2d001cfe40>,\n",
       " <Element a at 0x7f2d001cfbc0>,\n",
       " <Element a at 0x7f2d001cfd40>,\n",
       " <Element a at 0x7f2d001cfcc0>,\n",
       " <Element a at 0x7f2d001cfdc0>]"
      ]
     },
     "metadata": {},
     "execution_count": 4
    }
   ],
   "source": [
    "html.xpath(\"//a\")   #为了使用方便一般都使用子孙节点打头"
   ]
  },
  {
   "source": [
    "在xpath中也可以使用`*`来代指任意长度任意字符"
   ],
   "cell_type": "markdown",
   "metadata": {}
  },
  {
   "cell_type": "code",
   "execution_count": 5,
   "metadata": {},
   "outputs": [
    {
     "output_type": "execute_result",
     "data": {
      "text/plain": [
       "[<Element html at 0x7f2d0025bd80>,\n",
       " <Element body at 0x7f2d00aafa40>,\n",
       " <Element div at 0x7f2d001dfa00>,\n",
       " <Element ul at 0x7f2d001df880>,\n",
       " <Element li at 0x7f2d001df900>,\n",
       " <Element a at 0x7f2d001cfe40>,\n",
       " <Element li at 0x7f2d001df980>,\n",
       " <Element a at 0x7f2d001cfbc0>,\n",
       " <Element li at 0x7f2d001dfa40>,\n",
       " <Element a at 0x7f2d001cfd40>,\n",
       " <Element li at 0x7f2d001df640>,\n",
       " <Element a at 0x7f2d001cfcc0>,\n",
       " <Element li at 0x7f2d001dfa80>,\n",
       " <Element a at 0x7f2d001cfdc0>]"
      ]
     },
     "metadata": {},
     "execution_count": 5
    }
   ],
   "source": [
    "html.xpath(\"//*\")"
   ]
  },
  {
   "cell_type": "code",
   "execution_count": 6,
   "metadata": {},
   "outputs": [
    {
     "output_type": "execute_result",
     "data": {
      "text/plain": [
       "[<Element li at 0x7f2d001dfa40>]"
      ]
     },
     "metadata": {},
     "execution_count": 6
    }
   ],
   "source": [
    "html.xpath('//li[@class=\"item-inactive\"]')  #属性选择"
   ]
  },
  {
   "cell_type": "code",
   "execution_count": 7,
   "metadata": {},
   "outputs": [
    {
     "output_type": "execute_result",
     "data": {
      "text/plain": [
       "[<Element a at 0x7f2d001df800>]"
      ]
     },
     "metadata": {},
     "execution_count": 7
    }
   ],
   "source": [
    "text.xpath('//li[contains(@class, \"li\")]/a') #如果属性有多个值就要使用contains函数传入@属性，其中一个值，只要这个值属于属性就匹配"
   ]
  },
  {
   "cell_type": "code",
   "execution_count": 8,
   "metadata": {},
   "outputs": [
    {
     "output_type": "execute_result",
     "data": {
      "text/plain": [
       "[<Element li at 0x7f2d001dfa40>]"
      ]
     },
     "metadata": {},
     "execution_count": 8
    }
   ],
   "source": [
    "html.xpath('//li[3]')   #索引选择"
   ]
  },
  {
   "cell_type": "code",
   "execution_count": null,
   "metadata": {},
   "outputs": [],
   "source": [
    "可以在节点中添加序号来匹配第几个节点\n",
    "其中last（）表示最后一个，position（）表示自身序号."
   ]
  },
  {
   "cell_type": "code",
   "execution_count": 9,
   "metadata": {},
   "outputs": [
    {
     "output_type": "execute_result",
     "data": {
      "text/plain": [
       "['\\n        ']"
      ]
     },
     "metadata": {},
     "execution_count": 9
    }
   ],
   "source": [
    "html.xpath('//li/text()')   #获取定位节点内容"
   ]
  },
  {
   "cell_type": "code",
   "execution_count": 10,
   "metadata": {},
   "outputs": [
    {
     "output_type": "execute_result",
     "data": {
      "text/plain": [
       "['first item ',\n",
       " 'second item ',\n",
       " 'third item ',\n",
       " 'fourth item ',\n",
       " 'fifth item ',\n",
       " '\\n        ']"
      ]
     },
     "metadata": {},
     "execution_count": 10
    }
   ],
   "source": [
    "html.xpath('//li//text()')   #获取定位节点内容和其中子孙节点内容"
   ]
  },
  {
   "cell_type": "code",
   "execution_count": 11,
   "metadata": {},
   "outputs": [
    {
     "output_type": "execute_result",
     "data": {
      "text/plain": [
       "['item-0', 'item-1', 'item-inactive', 'item-1', 'item-0']"
      ]
     },
     "metadata": {},
     "execution_count": 11
    }
   ],
   "source": [
    "html.xpath('//li/@*')   #获取属性值"
   ]
  },
  {
   "source": [
    "xpath也可以使用`and`、`or`、`mod`等来关联逻辑 \n",
    "\n",
    "- and：与\n",
    "- or：或\n",
    "- mod：取余\n",
    "- `+``-``*``div`：加减乘除\n",
    "- `=``!=``=>``=<``>``<`:等于，不等于，大于等于，小于等于，大于，小于\n",
    "- `|`:取节点并集"
   ],
   "cell_type": "markdown",
   "metadata": {}
  },
  {
   "source": [
    "轴选择\n",
    "\n",
    "- ancestor::选取祖先辈节点\n",
    "- attribute::节点的属性值\n",
    "- child::选取子节点\n",
    "- descendant::选取子孙节点\n",
    "- following::选取之前选中的节点之之后的内容，及li\\[1]的</li>后的所有节点\n",
    "- following-sibling::选取除本节点的所有兄弟节点"
   ],
   "cell_type": "markdown",
   "metadata": {}
  },
  {
   "cell_type": "code",
   "execution_count": 12,
   "metadata": {},
   "outputs": [
    {
     "output_type": "stream",
     "name": "stdout",
     "text": [
      "[<Element html at 0x7f2d0025bd80>, <Element body at 0x7f2d00aafa40>, <Element div at 0x7f2d001dfa00>, <Element ul at 0x7f2d001df880>]\n['item-0']\n[<Element a at 0x7f2d001cfe40>]\n[<Element a at 0x7f2d001cfe40>]\n[<Element li at 0x7f2d001df980>, <Element a at 0x7f2d001cfbc0>, <Element li at 0x7f2d001dfa40>, <Element a at 0x7f2d001cfd40>, <Element li at 0x7f2d001df640>, <Element a at 0x7f2d001cfcc0>, <Element li at 0x7f2d001dfa80>, <Element a at 0x7f2d001cfdc0>]\n[<Element li at 0x7f2d001df980>, <Element li at 0x7f2d001dfa40>, <Element li at 0x7f2d001df640>, <Element li at 0x7f2d001dfa80>]\n"
     ]
    }
   ],
   "source": [
    "r=html.xpath('//li[1]/ancestor::*')\n",
    "print(r)\n",
    "r=html.xpath('//li[1]/attribute::*')\n",
    "print(r)\n",
    "r=html.xpath('//li[1]/child::*')\n",
    "print(r)\n",
    "r=html.xpath('//li[1]/descendant::*')\n",
    "print(r)\n",
    "r=html.xpath('//li[1]/following::*')\n",
    "print(r)\n",
    "r=html.xpath('//li[1]/following-sibling::*')\n",
    "print(r)"
   ]
  },
  {
   "cell_type": "code",
   "execution_count": null,
   "metadata": {},
   "outputs": [],
   "source": [
    "轴选择用法 \n",
    "\n",
    "定位节点+对应轴选择器::对应节点选择器"
   ]
  },
  {
   "cell_type": "code",
   "execution_count": null,
   "metadata": {},
   "outputs": [],
   "source": [
    "可以在浏览器中使用调试台在elemens窗口中选中所需的标签在右键选中`copy`-`cpoy xpath`点击就可以自动获得该标签的xpath"
   ]
  }
 ],
 "metadata": {
  "kernelspec": {
   "name": "python385jvsc74a57bd031f2aee4e71d21fbe5cf8b01ff0e069b9275f58929596ceb00d14d90e3e16cd6",
   "display_name": "Python 3.8.5 64-bit"
  },
  "language_info": {
   "codemirror_mode": {
    "name": "ipython",
    "version": 3
   },
   "file_extension": ".py",
   "mimetype": "text/x-python",
   "name": "python",
   "nbconvert_exporter": "python",
   "pygments_lexer": "ipython3",
   "version": "3.8.5"
  }
 },
 "nbformat": 4,
 "nbformat_minor": 4
}